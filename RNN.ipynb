{
  "nbformat": 4,
  "nbformat_minor": 0,
  "metadata": {
    "colab": {
      "provenance": [],
      "gpuType": "T4"
    },
    "kernelspec": {
      "name": "python3",
      "display_name": "Python 3"
    },
    "language_info": {
      "name": "python"
    },
    "accelerator": "GPU"
  },
  "cells": [
    {
      "cell_type": "code",
      "source": [
        "!pip install datasets\n",
        "!pip install seqeval\n",
        "\n"
      ],
      "metadata": {
        "colab": {
          "base_uri": "https://localhost:8080/"
        },
        "id": "BlF_y9dZwBVF",
        "outputId": "f019b809-d753-44bc-8415-ef84c3fd6c91"
      },
      "execution_count": 3,
      "outputs": [
        {
          "output_type": "stream",
          "name": "stdout",
          "text": [
            "Requirement already satisfied: datasets in /usr/local/lib/python3.10/dist-packages (3.1.0)\n",
            "Requirement already satisfied: filelock in /usr/local/lib/python3.10/dist-packages (from datasets) (3.16.1)\n",
            "Requirement already satisfied: numpy>=1.17 in /usr/local/lib/python3.10/dist-packages (from datasets) (1.26.4)\n",
            "Requirement already satisfied: pyarrow>=15.0.0 in /usr/local/lib/python3.10/dist-packages (from datasets) (17.0.0)\n",
            "Requirement already satisfied: dill<0.3.9,>=0.3.0 in /usr/local/lib/python3.10/dist-packages (from datasets) (0.3.8)\n",
            "Requirement already satisfied: pandas in /usr/local/lib/python3.10/dist-packages (from datasets) (2.2.2)\n",
            "Requirement already satisfied: requests>=2.32.2 in /usr/local/lib/python3.10/dist-packages (from datasets) (2.32.3)\n",
            "Requirement already satisfied: tqdm>=4.66.3 in /usr/local/lib/python3.10/dist-packages (from datasets) (4.66.6)\n",
            "Requirement already satisfied: xxhash in /usr/local/lib/python3.10/dist-packages (from datasets) (3.5.0)\n",
            "Requirement already satisfied: multiprocess<0.70.17 in /usr/local/lib/python3.10/dist-packages (from datasets) (0.70.16)\n",
            "Requirement already satisfied: fsspec<=2024.9.0,>=2023.1.0 in /usr/local/lib/python3.10/dist-packages (from fsspec[http]<=2024.9.0,>=2023.1.0->datasets) (2024.9.0)\n",
            "Requirement already satisfied: aiohttp in /usr/local/lib/python3.10/dist-packages (from datasets) (3.11.2)\n",
            "Requirement already satisfied: huggingface-hub>=0.23.0 in /usr/local/lib/python3.10/dist-packages (from datasets) (0.26.2)\n",
            "Requirement already satisfied: packaging in /usr/local/lib/python3.10/dist-packages (from datasets) (24.2)\n",
            "Requirement already satisfied: pyyaml>=5.1 in /usr/local/lib/python3.10/dist-packages (from datasets) (6.0.2)\n",
            "Requirement already satisfied: aiohappyeyeballs>=2.3.0 in /usr/local/lib/python3.10/dist-packages (from aiohttp->datasets) (2.4.3)\n",
            "Requirement already satisfied: aiosignal>=1.1.2 in /usr/local/lib/python3.10/dist-packages (from aiohttp->datasets) (1.3.1)\n",
            "Requirement already satisfied: attrs>=17.3.0 in /usr/local/lib/python3.10/dist-packages (from aiohttp->datasets) (24.2.0)\n",
            "Requirement already satisfied: frozenlist>=1.1.1 in /usr/local/lib/python3.10/dist-packages (from aiohttp->datasets) (1.5.0)\n",
            "Requirement already satisfied: multidict<7.0,>=4.5 in /usr/local/lib/python3.10/dist-packages (from aiohttp->datasets) (6.1.0)\n",
            "Requirement already satisfied: propcache>=0.2.0 in /usr/local/lib/python3.10/dist-packages (from aiohttp->datasets) (0.2.0)\n",
            "Requirement already satisfied: yarl<2.0,>=1.17.0 in /usr/local/lib/python3.10/dist-packages (from aiohttp->datasets) (1.17.2)\n",
            "Requirement already satisfied: async-timeout<6.0,>=4.0 in /usr/local/lib/python3.10/dist-packages (from aiohttp->datasets) (4.0.3)\n",
            "Requirement already satisfied: typing-extensions>=3.7.4.3 in /usr/local/lib/python3.10/dist-packages (from huggingface-hub>=0.23.0->datasets) (4.12.2)\n",
            "Requirement already satisfied: charset-normalizer<4,>=2 in /usr/local/lib/python3.10/dist-packages (from requests>=2.32.2->datasets) (3.4.0)\n",
            "Requirement already satisfied: idna<4,>=2.5 in /usr/local/lib/python3.10/dist-packages (from requests>=2.32.2->datasets) (3.10)\n",
            "Requirement already satisfied: urllib3<3,>=1.21.1 in /usr/local/lib/python3.10/dist-packages (from requests>=2.32.2->datasets) (2.2.3)\n",
            "Requirement already satisfied: certifi>=2017.4.17 in /usr/local/lib/python3.10/dist-packages (from requests>=2.32.2->datasets) (2024.8.30)\n",
            "Requirement already satisfied: python-dateutil>=2.8.2 in /usr/local/lib/python3.10/dist-packages (from pandas->datasets) (2.8.2)\n",
            "Requirement already satisfied: pytz>=2020.1 in /usr/local/lib/python3.10/dist-packages (from pandas->datasets) (2024.2)\n",
            "Requirement already satisfied: tzdata>=2022.7 in /usr/local/lib/python3.10/dist-packages (from pandas->datasets) (2024.2)\n",
            "Requirement already satisfied: six>=1.5 in /usr/local/lib/python3.10/dist-packages (from python-dateutil>=2.8.2->pandas->datasets) (1.16.0)\n",
            "Collecting seqeval\n",
            "  Downloading seqeval-1.2.2.tar.gz (43 kB)\n",
            "\u001b[2K     \u001b[90m━━━━━━━━━━━━━━━━━━━━━━━━━━━━━━━━━━━━━━━━\u001b[0m \u001b[32m43.6/43.6 kB\u001b[0m \u001b[31m3.7 MB/s\u001b[0m eta \u001b[36m0:00:00\u001b[0m\n",
            "\u001b[?25h  Preparing metadata (setup.py) ... \u001b[?25l\u001b[?25hdone\n",
            "Requirement already satisfied: numpy>=1.14.0 in /usr/local/lib/python3.10/dist-packages (from seqeval) (1.26.4)\n",
            "Requirement already satisfied: scikit-learn>=0.21.3 in /usr/local/lib/python3.10/dist-packages (from seqeval) (1.5.2)\n",
            "Requirement already satisfied: scipy>=1.6.0 in /usr/local/lib/python3.10/dist-packages (from scikit-learn>=0.21.3->seqeval) (1.13.1)\n",
            "Requirement already satisfied: joblib>=1.2.0 in /usr/local/lib/python3.10/dist-packages (from scikit-learn>=0.21.3->seqeval) (1.4.2)\n",
            "Requirement already satisfied: threadpoolctl>=3.1.0 in /usr/local/lib/python3.10/dist-packages (from scikit-learn>=0.21.3->seqeval) (3.5.0)\n",
            "Building wheels for collected packages: seqeval\n",
            "  Building wheel for seqeval (setup.py) ... \u001b[?25l\u001b[?25hdone\n",
            "  Created wheel for seqeval: filename=seqeval-1.2.2-py3-none-any.whl size=16161 sha256=9b2adf44ad055c772b57357630060a9c3a56a27360d49dd0c62951350b636c30\n",
            "  Stored in directory: /root/.cache/pip/wheels/1a/67/4a/ad4082dd7dfc30f2abfe4d80a2ed5926a506eb8a972b4767fa\n",
            "Successfully built seqeval\n",
            "Installing collected packages: seqeval\n",
            "Successfully installed seqeval-1.2.2\n"
          ]
        }
      ]
    },
    {
      "cell_type": "code",
      "source": [
        "import numpy as np\n",
        "import tensorflow as tf\n",
        "from tensorflow.keras.preprocessing.sequence import pad_sequences\n",
        "from tensorflow.keras.utils import to_categorical\n",
        "from tensorflow.keras.models import Sequential\n",
        "from tensorflow.keras.layers import Embedding, Bidirectional, LSTM, TimeDistributed, Dense, Dropout\n",
        "from tensorflow.keras.callbacks import EarlyStopping, ModelCheckpoint\n",
        "from tensorflow.keras.optimizers import Adam\n",
        "from datasets import load_dataset\n",
        "from seqeval.metrics import classification_report\n",
        "from seqeval.scheme import IOB2\n",
        "from tensorflow.keras import regularizers\n",
        "\n",
        "# Tải dữ liệu CoNLL-2003\n",
        "dataset = load_dataset(\"conll2003\")\n",
        "train_data = dataset['train']\n",
        "val_data = dataset['validation']\n",
        "test_data = dataset['test']"
      ],
      "metadata": {
        "id": "0OJ6Nzkb8SXb"
      },
      "execution_count": 8,
      "outputs": []
    },
    {
      "cell_type": "code",
      "source": [
        "# Độ dài các câu trong tập huấn luyện\n",
        "sentence_lengths = [len(tokens) for tokens in train_data['tokens']]\n",
        "\n",
        "# In ra thông tin độ dài câu\n",
        "print(\"Độ dài trung bình:\", np.mean(sentence_lengths))\n",
        "print(\"Độ dài tối đa:\", np.max(sentence_lengths))\n",
        "\n",
        "# Vẽ biểu đồ phân phối\n",
        "import matplotlib.pyplot as plt\n",
        "plt.hist(sentence_lengths, bins=50)\n",
        "plt.title(\"Phân phối độ dài câu\")\n",
        "plt.xlabel(\"Độ dài câu\")\n",
        "plt.ylabel(\"Số lượng câu\")\n",
        "plt.show()\n"
      ],
      "metadata": {
        "colab": {
          "base_uri": "https://localhost:8080/",
          "height": 508
        },
        "id": "1Ar_o90XxqDc",
        "outputId": "a0165d00-1787-43fa-d982-34b07264e7d7"
      },
      "execution_count": 9,
      "outputs": [
        {
          "output_type": "stream",
          "name": "stdout",
          "text": [
            "Độ dài trung bình: 14.501887329962253\n",
            "Độ dài tối đa: 113\n"
          ]
        },
        {
          "output_type": "display_data",
          "data": {
            "text/plain": [
              "<Figure size 640x480 with 1 Axes>"
            ],
            "image/png": "[encoded data removed]"
          },
          "metadata": {}
        }
      ]
    },
    {
      "cell_type": "code",
      "source": [
        "# Lấy thông tin nhãn NER\n",
        "label_names = train_data.features['ner_tags'].feature.names\n",
        "\n",
        "# Hàm chuyển đổi nhãn số thành chuỗi\n",
        "def decode_tags(tags):\n",
        "    return [label_names[tag] for tag in tags]\n",
        "\n",
        "# Tokenizer để mã hóa từ\n",
        "from tensorflow.keras.preprocessing.text import Tokenizer\n",
        "tokenizer = Tokenizer(oov_token=\"<UNK>\")\n",
        "tokenizer.fit_on_texts(train_data['tokens'])\n",
        "\n",
        "# Mã hóa các câu thành số\n",
        "X_train = tokenizer.texts_to_sequences(train_data['tokens'])\n",
        "X_val = tokenizer.texts_to_sequences(val_data['tokens'])\n",
        "X_test = tokenizer.texts_to_sequences(test_data['tokens'])"
      ],
      "metadata": {
        "id": "2vg74iIiF9R3"
      },
      "execution_count": 10,
      "outputs": []
    },
    {
      "cell_type": "code",
      "source": [
        "# Padding các câu\n",
        "max_len = 60  # Độ dài tối đa của câu\n",
        "X_train = pad_sequences(X_train, maxlen=max_len, padding=\"post\", truncating=\"post\")\n",
        "X_val = pad_sequences(X_val, maxlen=max_len, padding=\"post\", truncating=\"post\")\n",
        "X_test = pad_sequences(X_test, maxlen=max_len, padding=\"post\", truncating=\"post\")\n",
        "\n",
        "# Mã hóa nhãn và padding\n",
        "y_train = pad_sequences(train_data['ner_tags'], maxlen=max_len, padding=\"post\", truncating=\"post\")\n",
        "y_val = pad_sequences(val_data['ner_tags'], maxlen=max_len, padding=\"post\", truncating=\"post\")\n",
        "y_test = pad_sequences(test_data['ner_tags'], maxlen=max_len, padding=\"post\", truncating=\"post\")\n",
        "\n",
        "# Chuyển nhãn thành dạng one-hot encoding\n",
        "num_labels = len(label_names)\n",
        "y_train = to_categorical(y_train, num_classes=num_labels)\n",
        "y_val = to_categorical(y_val, num_classes=num_labels)\n",
        "y_test = to_categorical(y_test, num_classes=num_labels)\n",
        "\n",
        "# Kiểm tra dữ liệu\n",
        "print(\"X_train shape:\", X_train.shape)\n",
        "print(\"y_train shape:\", y_train.shape)\n",
        "print(\"Ví dụ câu đầu tiên:\", train_data['tokens'][0])\n",
        "print(\"Nhãn dạng chuỗi:\", decode_tags(train_data['ner_tags'][0]))\n",
        "\n",
        "# Xây dựng mô hình RNN với Dropout\n",
        "embedding_dim = 128\n",
        "model = Sequential([\n",
        "    Embedding(input_dim=len(tokenizer.word_index) + 1, output_dim=embedding_dim, input_length=max_len),\n",
        "    Bidirectional(LSTM(units=64, return_sequences=True, dropout=0.5, recurrent_dropout=0.5,\n",
        "                        kernel_regularizer=regularizers.l2(0.01))),\n",
        "    Dropout(0.5),  # Thêm lớp Dropout để tránh overfitting\n",
        "    TimeDistributed(Dense(num_labels, activation=\"softmax\"))\n",
        "])\n",
        "\n",
        "# Compile mô hình với điều chỉnh learning rate\n",
        "optimizer = Adam(learning_rate=0.001)  # Điều chỉnh learning rate\n",
        "model.compile(optimizer=optimizer, loss=\"categorical_crossentropy\", metrics=[\"accuracy\"])\n",
        "\n",
        "# Early Stopping và ModelCheckpoint để theo dõi mô hình tốt nhất\n",
        "early_stopping = EarlyStopping(monitor=\"val_loss\", patience=5, restore_best_weights=True)\n",
        "checkpoint = ModelCheckpoint(\"best_model.keras\", monitor=\"val_loss\", save_best_only=True)\n",
        "\n",
        "# Huấn luyện mô hình với điều chỉnh batch_size và epochs\n",
        "history = model.fit(\n",
        "    X_train, y_train,\n",
        "    validation_data=(X_val, y_val),\n",
        "    batch_size=64,  # Thử điều chỉnh batch_size\n",
        "    epochs=20,  # Bạn có thể thay đổi số lượng epochs\n",
        "    callbacks=[early_stopping, checkpoint]\n",
        ")"
      ],
      "metadata": {
        "colab": {
          "base_uri": "https://localhost:8080/"
        },
        "id": "7ARbUIn1wEKh",
        "outputId": "f50108da-0716-415a-f776-10747a73b7dd"
      },
      "execution_count": 11,
      "outputs": [
        {
          "output_type": "stream",
          "name": "stdout",
          "text": [
            "X_train shape: (14041, 60)\n",
            "y_train shape: (14041, 60, 9)\n",
            "Ví dụ câu đầu tiên: ['EU', 'rejects', 'German', 'call', 'to', 'boycott', 'British', 'lamb', '.']\n",
            "Nhãn dạng chuỗi: ['B-ORG', 'O', 'B-MISC', 'O', 'O', 'O', 'B-MISC', 'O', 'O']\n",
            "Epoch 1/20\n",
            "\u001b[1m220/220\u001b[0m \u001b[32m━━━━━━━━━━━━━━━━━━━━\u001b[0m\u001b[37m\u001b[0m \u001b[1m65s\u001b[0m 226ms/step - accuracy: 0.9303 - loss: 1.9066 - val_accuracy: 0.9563 - val_loss: 0.2032\n",
            "Epoch 2/20\n",
            "\u001b[1m220/220\u001b[0m \u001b[32m━━━━━━━━━━━━━━━━━━━━\u001b[0m\u001b[37m\u001b[0m \u001b[1m50s\u001b[0m 227ms/step - accuracy: 0.9596 - loss: 0.1855 - val_accuracy: 0.9563 - val_loss: 0.1755\n",
            "Epoch 3/20\n",
            "\u001b[1m220/220\u001b[0m \u001b[32m━━━━━━━━━━━━━━━━━━━━\u001b[0m\u001b[37m\u001b[0m \u001b[1m80s\u001b[0m 219ms/step - accuracy: 0.9601 - loss: 0.1552 - val_accuracy: 0.9618 - val_loss: 0.1422\n",
            "Epoch 4/20\n",
            "\u001b[1m220/220\u001b[0m \u001b[32m━━━━━━━━━━━━━━━━━━━━\u001b[0m\u001b[37m\u001b[0m \u001b[1m80s\u001b[0m 209ms/step - accuracy: 0.9648 - loss: 0.1237 - val_accuracy: 0.9663 - val_loss: 0.1226\n",
            "Epoch 5/20\n",
            "\u001b[1m220/220\u001b[0m \u001b[32m━━━━━━━━━━━━━━━━━━━━\u001b[0m\u001b[37m\u001b[0m \u001b[1m83s\u001b[0m 213ms/step - accuracy: 0.9703 - loss: 0.1025 - val_accuracy: 0.9707 - val_loss: 0.1091\n",
            "Epoch 6/20\n",
            "\u001b[1m220/220\u001b[0m \u001b[32m━━━━━━━━━━━━━━━━━━━━\u001b[0m\u001b[37m\u001b[0m \u001b[1m84s\u001b[0m 223ms/step - accuracy: 0.9744 - loss: 0.0899 - val_accuracy: 0.9720 - val_loss: 0.1021\n",
            "Epoch 7/20\n",
            "\u001b[1m220/220\u001b[0m \u001b[32m━━━━━━━━━━━━━━━━━━━━\u001b[0m\u001b[37m\u001b[0m \u001b[1m80s\u001b[0m 215ms/step - accuracy: 0.9775 - loss: 0.0778 - val_accuracy: 0.9736 - val_loss: 0.0969\n",
            "Epoch 8/20\n",
            "\u001b[1m220/220\u001b[0m \u001b[32m━━━━━━━━━━━━━━━━━━━━\u001b[0m\u001b[37m\u001b[0m \u001b[1m83s\u001b[0m 222ms/step - accuracy: 0.9787 - loss: 0.0729 - val_accuracy: 0.9741 - val_loss: 0.0944\n",
            "Epoch 9/20\n",
            "\u001b[1m220/220\u001b[0m \u001b[32m━━━━━━━━━━━━━━━━━━━━\u001b[0m\u001b[37m\u001b[0m \u001b[1m81s\u001b[0m 217ms/step - accuracy: 0.9800 - loss: 0.0682 - val_accuracy: 0.9749 - val_loss: 0.0918\n",
            "Epoch 10/20\n",
            "\u001b[1m220/220\u001b[0m \u001b[32m━━━━━━━━━━━━━━━━━━━━\u001b[0m\u001b[37m\u001b[0m \u001b[1m81s\u001b[0m 215ms/step - accuracy: 0.9812 - loss: 0.0652 - val_accuracy: 0.9749 - val_loss: 0.0920\n",
            "Epoch 11/20\n",
            "\u001b[1m220/220\u001b[0m \u001b[32m━━━━━━━━━━━━━━━━━━━━\u001b[0m\u001b[37m\u001b[0m \u001b[1m83s\u001b[0m 220ms/step - accuracy: 0.9824 - loss: 0.0616 - val_accuracy: 0.9754 - val_loss: 0.0907\n",
            "Epoch 12/20\n",
            "\u001b[1m220/220\u001b[0m \u001b[32m━━━━━━━━━━━━━━━━━━━━\u001b[0m\u001b[37m\u001b[0m \u001b[1m48s\u001b[0m 218ms/step - accuracy: 0.9827 - loss: 0.0605 - val_accuracy: 0.9752 - val_loss: 0.0909\n",
            "Epoch 13/20\n",
            "\u001b[1m220/220\u001b[0m \u001b[32m━━━━━━━━━━━━━━━━━━━━\u001b[0m\u001b[37m\u001b[0m \u001b[1m81s\u001b[0m 213ms/step - accuracy: 0.9836 - loss: 0.0575 - val_accuracy: 0.9754 - val_loss: 0.0924\n",
            "Epoch 14/20\n",
            "\u001b[1m220/220\u001b[0m \u001b[32m━━━━━━━━━━━━━━━━━━━━\u001b[0m\u001b[37m\u001b[0m \u001b[1m49s\u001b[0m 224ms/step - accuracy: 0.9838 - loss: 0.0562 - val_accuracy: 0.9756 - val_loss: 0.0916\n",
            "Epoch 15/20\n",
            "\u001b[1m220/220\u001b[0m \u001b[32m━━━━━━━━━━━━━━━━━━━━\u001b[0m\u001b[37m\u001b[0m \u001b[1m79s\u001b[0m 212ms/step - accuracy: 0.9844 - loss: 0.0550 - val_accuracy: 0.9759 - val_loss: 0.0880\n",
            "Epoch 16/20\n",
            "\u001b[1m220/220\u001b[0m \u001b[32m━━━━━━━━━━━━━━━━━━━━\u001b[0m\u001b[37m\u001b[0m \u001b[1m83s\u001b[0m 218ms/step - accuracy: 0.9852 - loss: 0.0516 - val_accuracy: 0.9762 - val_loss: 0.0857\n",
            "Epoch 17/20\n",
            "\u001b[1m220/220\u001b[0m \u001b[32m━━━━━━━━━━━━━━━━━━━━\u001b[0m\u001b[37m\u001b[0m \u001b[1m80s\u001b[0m 211ms/step - accuracy: 0.9854 - loss: 0.0512 - val_accuracy: 0.9775 - val_loss: 0.0902\n",
            "Epoch 18/20\n",
            "\u001b[1m220/220\u001b[0m \u001b[32m━━━━━━━━━━━━━━━━━━━━\u001b[0m\u001b[37m\u001b[0m \u001b[1m84s\u001b[0m 219ms/step - accuracy: 0.9859 - loss: 0.0503 - val_accuracy: 0.9780 - val_loss: 0.0856\n",
            "Epoch 19/20\n",
            "\u001b[1m220/220\u001b[0m \u001b[32m━━━━━━━━━━━━━━━━━━━━\u001b[0m\u001b[37m\u001b[0m \u001b[1m83s\u001b[0m 223ms/step - accuracy: 0.9873 - loss: 0.0477 - val_accuracy: 0.9788 - val_loss: 0.0857\n",
            "Epoch 20/20\n",
            "\u001b[1m220/220\u001b[0m \u001b[32m━━━━━━━━━━━━━━━━━━━━\u001b[0m\u001b[37m\u001b[0m \u001b[1m82s\u001b[0m 221ms/step - accuracy: 0.9882 - loss: 0.0445 - val_accuracy: 0.9796 - val_loss: 0.0829\n"
          ]
        }
      ]
    },
    {
      "cell_type": "code",
      "source": [
        "# Save training history to a log file\n",
        "import matplotlib.pyplot as plt\n",
        "\n",
        "# Plot accuracy\n",
        "plt.plot(history.history['accuracy'], label='accuracy')\n",
        "plt.plot(history.history['val_accuracy'], label = 'val_accuracy')\n",
        "plt.xlabel('Epoch')\n",
        "plt.ylabel('Accuracy')\n",
        "plt.legend(loc='lower right')\n",
        "plt.savefig(\"accuracy_plot.png\")\n",
        "\n",
        "# Plot loss\n",
        "plt.plot(history.history['loss'], label='loss')\n",
        "plt.plot(history.history['val_loss'], label='val_loss')\n",
        "plt.xlabel('Epoch')\n",
        "plt.ylabel('Loss')\n",
        "plt.legend(loc='upper right')\n",
        "plt.savefig(\"loss_plot.png\")\n"
      ],
      "metadata": {
        "id": "4DiACDc56IMS",
        "colab": {
          "base_uri": "https://localhost:8080/",
          "height": 449
        },
        "outputId": "5be11ada-e5d5-4e6a-9525-86716334e112"
      },
      "execution_count": 12,
      "outputs": [
        {
          "output_type": "display_data",
          "data": {
            "text/plain": [
              "<Figure size 640x480 with 1 Axes>"
            ],
            "image/png": "[encoded data removed]"
          },
          "metadata": {}
        }
      ]
    },
    {
      "cell_type": "code",
      "source": [
        "# Đánh giá trên tập kiểm tra\n",
        "test_loss, test_accuracy = model.evaluate(X_test, y_test)\n",
        "print(f\"Test Loss: {test_loss}, Test Accuracy: {test_accuracy}\")\n",
        "\n",
        "# Dự đoán trên tập kiểm tra và đánh giá bằng F1-score\n",
        "def decode_predictions(preds):\n",
        "    return [[label_names[np.argmax(tag)] for tag in sentence] for sentence in preds]\n",
        "\n",
        "y_pred = model.predict(X_test, verbose=1)\n",
        "y_pred = decode_predictions(y_pred)\n",
        "y_true = decode_predictions(y_test)\n",
        "\n",
        "# Báo cáo F1-score\n",
        "print(classification_report(y_true, y_pred, mode='strict', scheme=IOB2))\n",
        "\n",
        "# Lưu mô hình\n",
        "model.save(\"ner_rnn_model_conll2003.keras\")\n",
        "print(\"Mô hình đã được lưu thành công!\")"
      ],
      "metadata": {
        "id": "CGmbWTq5O0Ht",
        "colab": {
          "base_uri": "https://localhost:8080/"
        },
        "outputId": "0280dedd-dc42-42f1-af2e-586f8f0d68ee"
      },
      "execution_count": 13,
      "outputs": [
        {
          "output_type": "stream",
          "name": "stdout",
          "text": [
            "\u001b[1m108/108\u001b[0m \u001b[32m━━━━━━━━━━━━━━━━━━━━\u001b[0m\u001b[37m\u001b[0m \u001b[1m5s\u001b[0m 45ms/step - accuracy: 0.9737 - loss: 0.0993\n",
            "Test Loss: 0.09252167493104935, Test Accuracy: 0.975267767906189\n",
            "\u001b[1m108/108\u001b[0m \u001b[32m━━━━━━━━━━━━━━━━━━━━\u001b[0m\u001b[37m\u001b[0m \u001b[1m8s\u001b[0m 64ms/step\n",
            "              precision    recall  f1-score   support\n",
            "\n",
            "         LOC       0.65      0.59      0.62      1660\n",
            "        MISC       0.73      0.45      0.56       702\n",
            "         ORG       0.43      0.54      0.48      1660\n",
            "         PER       0.58      0.30      0.39      1595\n",
            "\n",
            "   micro avg       0.55      0.47      0.51      5617\n",
            "   macro avg       0.60      0.47      0.51      5617\n",
            "weighted avg       0.58      0.47      0.51      5617\n",
            "\n",
            "Mô hình đã được lưu thành công!\n"
          ]
        }
      ]
    },
    {
      "cell_type": "markdown",
      "source": [],
      "metadata": {
        "id": "D3CCEnJXxp4I"
      }
    }
  ]
}