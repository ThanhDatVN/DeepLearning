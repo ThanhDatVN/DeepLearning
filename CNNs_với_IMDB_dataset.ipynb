{
  "nbformat": 4,
  "nbformat_minor": 0,
  "metadata": {
    "colab": {
      "provenance": [],
      "gpuType": "T4"
    },
    "kernelspec": {
      "name": "python3",
      "display_name": "Python 3"
    },
    "language_info": {
      "name": "python"
    },
    "accelerator": "GPU"
  },
  "cells": [
    {
      "cell_type": "code",
      "source": [
        "from google.colab import drive\n",
        "drive.mount('/content/drive')\n"
      ],
      "metadata": {
        "colab": {
          "base_uri": "https://localhost:8080/"
        },
        "id": "IgF4thRph6lE",
        "outputId": "9de0cc24-cfee-4cdd-d8aa-8e8ab2702a41"
      },
      "execution_count": 4,
      "outputs": [
        {
          "output_type": "stream",
          "name": "stdout",
          "text": [
            "Drive already mounted at /content/drive; to attempt to forcibly remount, call drive.mount(\"/content/drive\", force_remount=True).\n"
          ]
        }
      ]
    },
    {
      "cell_type": "code",
      "source": [
        "import pandas as pd\n",
        "import torch\n",
        "from sklearn.model_selection import train_test_split\n",
        "from torch.utils.data import DataLoader, TensorDataset\n",
        "from torch.nn.utils.rnn import pad_sequence\n",
        "from torchtext.data.utils import get_tokenizer\n",
        "from torchtext.vocab import build_vocab_from_iterator\n",
        "\n",
        "# Đọc dữ liệu từ file CSV\n",
        "file_path = '/content/drive/My Drive/Datasets/IMDB Dataset.csv'\n",
        "data = pd.read_csv(file_path)\n",
        "\n",
        "# Tiền xử lý dữ liệu: Chuyển đổi nhãn thành 0 (negative) và 1 (positive)\n",
        "data['sentiment'] = data['sentiment'].map({'positive': 1, 'negative': 0})\n",
        "\n",
        "# Tạo tokenizer và từ điển\n",
        "tokenizer = get_tokenizer('basic_english')\n",
        "\n",
        "def yield_tokens(data_iter):\n",
        "    for text in data_iter:\n",
        "        yield tokenizer(text)\n",
        "\n",
        "# Xây dựng từ điển cho các từ trong dataset\n",
        "vocab = build_vocab_from_iterator(yield_tokens(data['review']), specials=[\"<PAD>\", \"<UNK>\"])\n",
        "vocab.set_default_index(vocab[\"<UNK>\"])\n",
        "\n",
        "# Chuyển đổi các review thành chỉ số\n",
        "def preprocess_data(texts, vocab, tokenizer, max_len=200):\n",
        "    encoded_texts = []\n",
        "    for text in texts:\n",
        "        tokens = tokenizer(text)\n",
        "        encoded_text = [vocab[token] for token in tokens][:max_len]\n",
        "        padded_text = encoded_text + [vocab[\"<PAD>\"]] * (max_len - len(encoded_text))\n",
        "        encoded_texts.append(torch.tensor(padded_text))\n",
        "    return pad_sequence(encoded_texts, batch_first=True)\n",
        "\n",
        "# Tiền xử lý dữ liệu văn bản\n",
        "X = preprocess_data(data['review'], vocab, tokenizer)\n",
        "y = torch.tensor(data['sentiment'].values)\n",
        "\n",
        "# Chia dữ liệu thành train và test\n",
        "X_train, X_test, y_train, y_test = train_test_split(X, y, test_size=0.2, random_state=42)\n",
        "\n",
        "# Chuyển dữ liệu thành DataLoader\n",
        "batch_size = 32\n",
        "train_dataset = TensorDataset(X_train, y_train)\n",
        "test_dataset = TensorDataset(X_test, y_test)\n",
        "\n",
        "train_loader = DataLoader(train_dataset, batch_size=batch_size, shuffle=True)\n",
        "test_loader = DataLoader(test_dataset, batch_size=batch_size)\n"
      ],
      "metadata": {
        "id": "LIGnFqsZiEIi"
      },
      "execution_count": 6,
      "outputs": []
    },
    {
      "cell_type": "code",
      "source": [
        "import torch.nn as nn\n",
        "import torch.optim as optim\n",
        "\n",
        "class TextCNN(nn.Module):\n",
        "    def __init__(self, vocab_size, embed_size, num_classes, kernel_sizes, num_filters, dropout_rate=0.5):\n",
        "        super(TextCNN, self).__init__()\n",
        "\n",
        "        # Lớp embedding\n",
        "        self.embedding = nn.Embedding(vocab_size, embed_size)\n",
        "\n",
        "        # Các lớp Conv1d cho nhiều kích thước kernel khác nhau\n",
        "        self.convs = nn.ModuleList([\n",
        "            nn.Conv1d(in_channels=embed_size, out_channels=num_filters, kernel_size=k)\n",
        "            for k in kernel_sizes\n",
        "        ])\n",
        "\n",
        "        # Dropout layer\n",
        "        self.dropout = nn.Dropout(dropout_rate)\n",
        "\n",
        "        # Lớp fully connected\n",
        "        self.fc = nn.Linear(num_filters * len(kernel_sizes), num_classes)\n",
        "\n",
        "    def forward(self, x):\n",
        "        # Lớp embedding\n",
        "        x = self.embedding(x)  # Chuyển từ index thành embedding\n",
        "\n",
        "        # Đổi chiều để phù hợp với Conv1D (batch_size, embed_size, seq_length)\n",
        "        x = x.transpose(1, 2)  # (batch_size, embed_size, seq_length)\n",
        "\n",
        "        # Áp dụng các lớp Conv1D\n",
        "        conv_results = [torch.relu(conv(x)) for conv in self.convs]\n",
        "\n",
        "        # Max pooling trên chiều chiều dài chuỗi (seq_length)\n",
        "        pooled_results = [torch.max(conv_result, dim=2)[0] for conv_result in conv_results]\n",
        "\n",
        "        # Kết hợp các kết quả pooling lại với nhau\n",
        "        cat = torch.cat(pooled_results, dim=1)\n",
        "\n",
        "        # Áp dụng Dropout\n",
        "        cat = self.dropout(cat)\n",
        "\n",
        "        # Lớp fully connected\n",
        "        output = self.fc(cat)\n",
        "\n",
        "        return output\n",
        "\n",
        "\n",
        "\n",
        "\n",
        "# Các tham số mô hình\n",
        "vocab_size = len(vocab)  # Từ điển vocab đã xây dựng trước đó\n",
        "embed_size = 128\n",
        "num_classes = 2  # Số lớp (positive, negative)\n",
        "kernel_sizes = [3, 4, 5]  # Các kích thước kernel khác nhau\n",
        "num_filters = 100  # Số lượng filter\n",
        "dropout_rate = 0.5 # Tỷ lệ dropout\n",
        "\n",
        "# Khởi tạo mô hình\n",
        "device = torch.device(\"cuda\" if torch.cuda.is_available() else \"cpu\")\n",
        "model = TextCNN(vocab_size, embed_size, num_classes, kernel_sizes, num_filters, dropout_rate).to(device)\n",
        "print(device)"
      ],
      "metadata": {
        "colab": {
          "base_uri": "https://localhost:8080/"
        },
        "id": "rHu53wEalZWX",
        "outputId": "9401aecd-39e0-4700-ba59-ba6d0ec1974a"
      },
      "execution_count": 23,
      "outputs": [
        {
          "output_type": "stream",
          "name": "stdout",
          "text": [
            "cuda\n"
          ]
        }
      ]
    },
    {
      "cell_type": "code",
      "source": [
        "# Thiết lập các tham số huấn luyện\n",
        "learning_rate = 0.001\n",
        "optimizer = torch.optim.Adam(model.parameters(), lr=0.001, weight_decay=1e-5)  # weight_decay = L2 regularization\n",
        "loss_fn = nn.CrossEntropyLoss()\n",
        "\n",
        "# Huấn luyện mô hình\n",
        "num_epochs = 15\n",
        "for epoch in range(num_epochs):\n",
        "    model.train()\n",
        "    total_loss = 0.0\n",
        "    correct_predictions = 0\n",
        "    total_predictions = 0\n",
        "    for batch in train_loader:\n",
        "        inputs, labels = batch\n",
        "        # Di chuyển inputs và labels sang cùng device với model\n",
        "        inputs, labels = inputs.to(device), labels.to(device)\n",
        "        optimizer.zero_grad()\n",
        "        outputs = model(inputs)\n",
        "        loss = loss_fn(outputs, labels)\n",
        "        loss.backward()\n",
        "        optimizer.step()\n",
        "\n",
        "        total_loss += loss.item()\n",
        "        _, predicted = torch.max(outputs, 1)\n",
        "        correct_predictions += (predicted == labels).sum().item()\n",
        "        total_predictions += labels.size(0)\n",
        "\n",
        "    # Tính accuracy\n",
        "    accuracy = 100 * correct_predictions / total_predictions\n",
        "    print(f\"Epoch {epoch+1}/{num_epochs}, Loss: {total_loss/len(train_loader)}, Accuracy: {accuracy}%\")"
      ],
      "metadata": {
        "id": "Fx0F0tFrlfcv",
        "outputId": "4d88a5f2-92e3-4c2f-a6e2-cb21ce7d818d",
        "colab": {
          "base_uri": "https://localhost:8080/"
        }
      },
      "execution_count": 24,
      "outputs": [
        {
          "output_type": "stream",
          "name": "stdout",
          "text": [
            "Epoch 1/15, Loss: 0.5870006852388382, Accuracy: 68.96%\n",
            "Epoch 2/15, Loss: 0.43018938430547715, Accuracy: 80.1%\n",
            "Epoch 3/15, Loss: 0.34929062739014627, Accuracy: 84.57%\n",
            "Epoch 4/15, Loss: 0.28903667719066145, Accuracy: 87.9475%\n",
            "Epoch 5/15, Loss: 0.24130050117075444, Accuracy: 90.21%\n",
            "Epoch 6/15, Loss: 0.19717907936424017, Accuracy: 92.2475%\n",
            "Epoch 7/15, Loss: 0.16268429799154402, Accuracy: 93.685%\n",
            "Epoch 8/15, Loss: 0.12798389133363963, Accuracy: 95.2025%\n",
            "Epoch 9/15, Loss: 0.10987095902599395, Accuracy: 95.8625%\n",
            "Epoch 10/15, Loss: 0.09276870388947427, Accuracy: 96.5075%\n",
            "Epoch 11/15, Loss: 0.08502690050564707, Accuracy: 96.7975%\n",
            "Epoch 12/15, Loss: 0.07831132271802053, Accuracy: 97.095%\n",
            "Epoch 13/15, Loss: 0.06858730672392994, Accuracy: 97.555%\n",
            "Epoch 14/15, Loss: 0.0694512641039677, Accuracy: 97.4525%\n",
            "Epoch 15/15, Loss: 0.06424320553466678, Accuracy: 97.5675%\n"
          ]
        }
      ]
    },
    {
      "cell_type": "code",
      "source": [
        "# Đánh giá mô hình trên tập test\n",
        "model.eval()\n",
        "correct_predictions = 0\n",
        "total_predictions = 0\n",
        "with torch.no_grad():\n",
        "    for batch in test_loader:\n",
        "        inputs, labels = batch\n",
        "        # Di chuyển inputs và labels sang cùng device với model\n",
        "        inputs = inputs.to(device)  # Di chuyển inputs sang GPU nếu có\n",
        "        labels = labels.to(device)  # Di chuyển labels sang GPU nếu có\n",
        "        outputs = model(inputs)\n",
        "        _, predicted = torch.max(outputs, 1)\n",
        "        correct_predictions += (predicted == labels).sum().item()\n",
        "        total_predictions += labels.size(0)\n",
        "\n",
        "test_accuracy = 100 * correct_predictions / total_predictions\n",
        "print(f\"Test Accuracy: {test_accuracy}%\")"
      ],
      "metadata": {
        "colab": {
          "base_uri": "https://localhost:8080/"
        },
        "id": "aG5YgDFOpU68",
        "outputId": "526cce2a-82a5-4af9-9797-5f98c9eb729a"
      },
      "execution_count": 25,
      "outputs": [
        {
          "output_type": "stream",
          "name": "stdout",
          "text": [
            "Test Accuracy: 86.34%\n"
          ]
        }
      ]
    }
  ]
}